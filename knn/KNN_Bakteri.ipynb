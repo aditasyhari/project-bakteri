{
  "nbformat": 4,
  "nbformat_minor": 0,
  "metadata": {
    "colab": {
      "name": "KNN Bakteri.ipynb",
      "provenance": []
    },
    "kernelspec": {
      "name": "python3",
      "display_name": "Python 3"
    },
    "language_info": {
      "name": "python"
    }
  },
  "cells": [
    {
      "cell_type": "code",
      "metadata": {
        "id": "8ZFsj9lVno1L"
      },
      "source": [
        "from sklearn.neighbors import KNeighborsClassifier\n",
        "from sklearn.preprocessing import LabelEncoder\n",
        "from sklearn.model_selection import  train_test_split\n",
        "from sklearn.metrics import classification_report\n",
        "from imutils import paths\n",
        "import cv2\n",
        "import os\n",
        "import glob\n",
        "import numpy as np"
      ],
      "execution_count": null,
      "outputs": []
    },
    {
      "cell_type": "code",
      "metadata": {
        "id": "0Mp8Qd9EyHJP"
      },
      "source": [
        "def getListOfFiles(dirName):\n",
        "    listOfFile = os.listdir(dirName)\n",
        "    allFiles = list()\n",
        "    for entry in listOfFile:\n",
        "        fullPath = os.path.join(dirName, entry)\n",
        "        if os.path.isdir(fullPath):\n",
        "            allFiles = allFiles + getListOfFiles(fullPath)\n",
        "        else:\n",
        "            allFiles.append(fullPath)\n",
        "\n",
        "    return allFiles"
      ],
      "execution_count": null,
      "outputs": []
    },
    {
      "cell_type": "code",
      "metadata": {
        "id": "kid01uicyHG7"
      },
      "source": [
        "imagePaths = getListOfFiles(\"/content/drive/MyDrive/Colab Notebooks/Bakteri/Bakteri\")"
      ],
      "execution_count": null,
      "outputs": []
    },
    {
      "cell_type": "code",
      "metadata": {
        "colab": {
          "base_uri": "https://localhost:8080/"
        },
        "id": "3N7fbKZFyHEz",
        "outputId": "ae209d35-4b59-477d-d927-8fd95a984491"
      },
      "source": [
        "data = []\n",
        "lables = []\n",
        "c = 0\n",
        "for image in imagePaths:\n",
        "\n",
        "    lable = os.path.split(os.path.split(image)[0])[1]\n",
        "    lables.append(lable)\n",
        "    # print(lable)\n",
        "\n",
        "    print(image)\n",
        "    img = cv2.imread(image)\n",
        "    img = cv2.resize(img, (32, 32), interpolation = cv2.INTER_AREA)\n",
        "    data.append(img)\n",
        "    c=c+1\n",
        "    print(c)"
      ],
      "execution_count": null,
      "outputs": [
        {
          "output_type": "stream",
          "name": "stdout",
          "text": [
            "/content/drive/MyDrive/Colab Notebooks/Bakteri/Bakteri/Streptococcus_agalactiae/Streptococcus.agalactiae_0016.jpg\n",
            "1\n",
            "/content/drive/MyDrive/Colab Notebooks/Bakteri/Bakteri/Streptococcus_agalactiae/Streptococcus.agalactiae_0011.jpg\n",
            "2\n",
            "/content/drive/MyDrive/Colab Notebooks/Bakteri/Bakteri/Streptococcus_agalactiae/Streptococcus.agalactiae_0005.jpg\n",
            "3\n",
            "/content/drive/MyDrive/Colab Notebooks/Bakteri/Bakteri/Streptococcus_agalactiae/Streptococcus.agalactiae_0006.jpg\n",
            "4\n",
            "/content/drive/MyDrive/Colab Notebooks/Bakteri/Bakteri/Streptococcus_agalactiae/Streptococcus.agalactiae_0014.jpg\n",
            "5\n",
            "/content/drive/MyDrive/Colab Notebooks/Bakteri/Bakteri/Streptococcus_agalactiae/Streptococcus.agalactiae_0013.jpg\n",
            "6\n",
            "/content/drive/MyDrive/Colab Notebooks/Bakteri/Bakteri/Streptococcus_agalactiae/Streptococcus.agalactiae_0017.jpg\n",
            "7\n",
            "/content/drive/MyDrive/Colab Notebooks/Bakteri/Bakteri/Streptococcus_agalactiae/Streptococcus.agalactiae_0015.jpg\n",
            "8\n",
            "/content/drive/MyDrive/Colab Notebooks/Bakteri/Bakteri/Streptococcus_agalactiae/Streptococcus.agalactiae_0004.jpg\n",
            "9\n",
            "/content/drive/MyDrive/Colab Notebooks/Bakteri/Bakteri/Streptococcus_agalactiae/Streptococcus.agalactiae_0009.jpg\n",
            "10\n",
            "/content/drive/MyDrive/Colab Notebooks/Bakteri/Bakteri/Streptococcus_agalactiae/Streptococcus.agalactiae_0010.jpg\n",
            "11\n",
            "/content/drive/MyDrive/Colab Notebooks/Bakteri/Bakteri/Streptococcus_agalactiae/Streptococcus.agalactiae_0008.jpg\n",
            "12\n",
            "/content/drive/MyDrive/Colab Notebooks/Bakteri/Bakteri/Streptococcus_agalactiae/Streptococcus.agalactiae_0002.jpg\n",
            "13\n",
            "/content/drive/MyDrive/Colab Notebooks/Bakteri/Bakteri/Streptococcus_agalactiae/Streptococcus.agalactiae_0007.jpg\n",
            "14\n",
            "/content/drive/MyDrive/Colab Notebooks/Bakteri/Bakteri/Streptococcus_agalactiae/Streptococcus.agalactiae_0012.jpg\n",
            "15\n",
            "/content/drive/MyDrive/Colab Notebooks/Bakteri/Bakteri/Streptococcus_agalactiae/Streptococcus.agalactiae_0001.jpg\n",
            "16\n",
            "/content/drive/MyDrive/Colab Notebooks/Bakteri/Bakteri/Streptococcus_agalactiae/Streptococcus.agalactiae_0003.jpg\n",
            "17\n",
            "/content/drive/MyDrive/Colab Notebooks/Bakteri/Bakteri/Streptococcus_agalactiae/Streptococcus.agalactiae_0019.jpg\n",
            "18\n",
            "/content/drive/MyDrive/Colab Notebooks/Bakteri/Bakteri/Streptococcus_agalactiae/Streptococcus.agalactiae_0020.jpg\n",
            "19\n",
            "/content/drive/MyDrive/Colab Notebooks/Bakteri/Bakteri/Streptococcus_agalactiae/Streptococcus.agalactiae_0018.jpg\n",
            "20\n",
            "/content/drive/MyDrive/Colab Notebooks/Bakteri/Bakteri/Lactobacillus_reuteri/Lactobacillus.reuteri_0005.jpg\n",
            "21\n",
            "/content/drive/MyDrive/Colab Notebooks/Bakteri/Bakteri/Lactobacillus_reuteri/Lactobacillus.reuteri_0003.jpg\n",
            "22\n",
            "/content/drive/MyDrive/Colab Notebooks/Bakteri/Bakteri/Lactobacillus_reuteri/Lactobacillus.reuteri_0002.jpg\n",
            "23\n",
            "/content/drive/MyDrive/Colab Notebooks/Bakteri/Bakteri/Lactobacillus_reuteri/Lactobacillus.reuteri_0001(1).jpg\n",
            "24\n",
            "/content/drive/MyDrive/Colab Notebooks/Bakteri/Bakteri/Lactobacillus_reuteri/Lactobacillus.reuteri_0004.jpg\n",
            "25\n",
            "/content/drive/MyDrive/Colab Notebooks/Bakteri/Bakteri/Lactobacillus_reuteri/Lactobacillus.reuteri_0001.jpg\n",
            "26\n",
            "/content/drive/MyDrive/Colab Notebooks/Bakteri/Bakteri/Lactobacillus_reuteri/Lactobacillus.reuteri_0020.jpg\n",
            "27\n",
            "/content/drive/MyDrive/Colab Notebooks/Bakteri/Bakteri/Lactobacillus_reuteri/Lactobacillus.reuteri_0010.jpg\n",
            "28\n",
            "/content/drive/MyDrive/Colab Notebooks/Bakteri/Bakteri/Lactobacillus_reuteri/Lactobacillus.reuteri_0015.jpg\n",
            "29\n",
            "/content/drive/MyDrive/Colab Notebooks/Bakteri/Bakteri/Lactobacillus_reuteri/Lactobacillus.reuteri_0007.jpg\n",
            "30\n",
            "/content/drive/MyDrive/Colab Notebooks/Bakteri/Bakteri/Lactobacillus_reuteri/Lactobacillus.reuteri_0013.jpg\n",
            "31\n",
            "/content/drive/MyDrive/Colab Notebooks/Bakteri/Bakteri/Lactobacillus_reuteri/Lactobacillus.reuteri_0014.jpg\n",
            "32\n",
            "/content/drive/MyDrive/Colab Notebooks/Bakteri/Bakteri/Lactobacillus_reuteri/Lactobacillus.reuteri_0017.jpg\n",
            "33\n",
            "/content/drive/MyDrive/Colab Notebooks/Bakteri/Bakteri/Lactobacillus_reuteri/Lactobacillus.reuteri_0018.jpg\n",
            "34\n",
            "/content/drive/MyDrive/Colab Notebooks/Bakteri/Bakteri/Lactobacillus_reuteri/Lactobacillus.reuteri_0006.jpg\n",
            "35\n",
            "/content/drive/MyDrive/Colab Notebooks/Bakteri/Bakteri/Lactobacillus_reuteri/Lactobacillus.reuteri_0012.jpg\n",
            "36\n",
            "/content/drive/MyDrive/Colab Notebooks/Bakteri/Bakteri/Lactobacillus_reuteri/Lactobacillus.reuteri_0016.jpg\n",
            "37\n",
            "/content/drive/MyDrive/Colab Notebooks/Bakteri/Bakteri/Lactobacillus_reuteri/Lactobacillus.reuteri_0011.jpg\n",
            "38\n",
            "/content/drive/MyDrive/Colab Notebooks/Bakteri/Bakteri/Lactobacillus_reuteri/Lactobacillus.reuteri_0008.jpg\n",
            "39\n",
            "/content/drive/MyDrive/Colab Notebooks/Bakteri/Bakteri/Lactobacillus_reuteri/Lactobacillus.reuteri_0009.jpg\n",
            "40\n",
            "/content/drive/MyDrive/Colab Notebooks/Bakteri/Bakteri/Lactobacillus_reuteri/Lactobacillus.reuteri_0019.jpg\n",
            "41\n",
            "/content/drive/MyDrive/Colab Notebooks/Bakteri/Bakteri/Clostridium_perfringens/Clostridium.perfringens_0005.jpg\n",
            "42\n",
            "/content/drive/MyDrive/Colab Notebooks/Bakteri/Bakteri/Clostridium_perfringens/Clostridium.perfringens_0004.jpg\n",
            "43\n",
            "/content/drive/MyDrive/Colab Notebooks/Bakteri/Bakteri/Clostridium_perfringens/Clostridium.perfringens_0009.jpg\n",
            "44\n",
            "/content/drive/MyDrive/Colab Notebooks/Bakteri/Bakteri/Clostridium_perfringens/Clostridium.perfringens_0002.jpg\n",
            "45\n",
            "/content/drive/MyDrive/Colab Notebooks/Bakteri/Bakteri/Clostridium_perfringens/Clostridium.perfringens_0007.jpg\n",
            "46\n",
            "/content/drive/MyDrive/Colab Notebooks/Bakteri/Bakteri/Clostridium_perfringens/Clostridium.perfringens_0010.jpg\n",
            "47\n",
            "/content/drive/MyDrive/Colab Notebooks/Bakteri/Bakteri/Clostridium_perfringens/Clostridium.perfringens_0006.jpg\n",
            "48\n",
            "/content/drive/MyDrive/Colab Notebooks/Bakteri/Bakteri/Clostridium_perfringens/Clostridium.perfringens_0003.jpg\n",
            "49\n",
            "/content/drive/MyDrive/Colab Notebooks/Bakteri/Bakteri/Clostridium_perfringens/Clostridium.perfringens_0012.jpg\n",
            "50\n",
            "/content/drive/MyDrive/Colab Notebooks/Bakteri/Bakteri/Clostridium_perfringens/Clostridium.perfringens_0011.jpg\n",
            "51\n",
            "/content/drive/MyDrive/Colab Notebooks/Bakteri/Bakteri/Clostridium_perfringens/Clostridium.perfringens_0001.jpg\n",
            "52\n",
            "/content/drive/MyDrive/Colab Notebooks/Bakteri/Bakteri/Clostridium_perfringens/Clostridium.perfringens_0013.jpg\n",
            "53\n",
            "/content/drive/MyDrive/Colab Notebooks/Bakteri/Bakteri/Clostridium_perfringens/Clostridium.perfringens_0008.jpg\n",
            "54\n",
            "/content/drive/MyDrive/Colab Notebooks/Bakteri/Bakteri/Clostridium_perfringens/Clostridium.perfringens_0022.jpg\n",
            "55\n",
            "/content/drive/MyDrive/Colab Notebooks/Bakteri/Bakteri/Clostridium_perfringens/Clostridium.perfringens_0018.jpg\n",
            "56\n",
            "/content/drive/MyDrive/Colab Notebooks/Bakteri/Bakteri/Clostridium_perfringens/Clostridium.perfringens_0021.jpg\n",
            "57\n",
            "/content/drive/MyDrive/Colab Notebooks/Bakteri/Bakteri/Clostridium_perfringens/Clostridium.perfringens_0017.jpg\n",
            "58\n",
            "/content/drive/MyDrive/Colab Notebooks/Bakteri/Bakteri/Clostridium_perfringens/Clostridium.perfringens_0014.jpg\n",
            "59\n",
            "/content/drive/MyDrive/Colab Notebooks/Bakteri/Bakteri/Clostridium_perfringens/Clostridium.perfringens_0019.jpg\n",
            "60\n",
            "/content/drive/MyDrive/Colab Notebooks/Bakteri/Bakteri/Clostridium_perfringens/Clostridium.perfringens_0016.jpg\n",
            "61\n",
            "/content/drive/MyDrive/Colab Notebooks/Bakteri/Bakteri/Clostridium_perfringens/Clostridium.perfringens_0020.jpg\n",
            "62\n",
            "/content/drive/MyDrive/Colab Notebooks/Bakteri/Bakteri/Clostridium_perfringens/Clostridium.perfringens_0015.jpg\n",
            "63\n",
            "/content/drive/MyDrive/Colab Notebooks/Bakteri/Bakteri/Staphylococcus_epidermidis/Staphylococcus.epidermidis_0002.jpg\n",
            "64\n",
            "/content/drive/MyDrive/Colab Notebooks/Bakteri/Bakteri/Staphylococcus_epidermidis/Staphylococcus.epidermidis_0019.jpg\n",
            "65\n",
            "/content/drive/MyDrive/Colab Notebooks/Bakteri/Bakteri/Staphylococcus_epidermidis/Staphylococcus.epidermidis_0017.jpg\n",
            "66\n",
            "/content/drive/MyDrive/Colab Notebooks/Bakteri/Bakteri/Staphylococcus_epidermidis/Staphylococcus.epidermidis_0001.jpg\n",
            "67\n",
            "/content/drive/MyDrive/Colab Notebooks/Bakteri/Bakteri/Staphylococcus_epidermidis/Staphylococcus.epidermidis_0011.jpg\n",
            "68\n",
            "/content/drive/MyDrive/Colab Notebooks/Bakteri/Bakteri/Staphylococcus_epidermidis/Staphylococcus.epidermidis_0006.jpg\n",
            "69\n",
            "/content/drive/MyDrive/Colab Notebooks/Bakteri/Bakteri/Staphylococcus_epidermidis/Staphylococcus.epidermidis_0018.jpg\n",
            "70\n",
            "/content/drive/MyDrive/Colab Notebooks/Bakteri/Bakteri/Staphylococcus_epidermidis/Staphylococcus.epidermidis_0005.jpg\n",
            "71\n",
            "/content/drive/MyDrive/Colab Notebooks/Bakteri/Bakteri/Staphylococcus_epidermidis/Staphylococcus.epidermidis_0014.jpg\n",
            "72\n",
            "/content/drive/MyDrive/Colab Notebooks/Bakteri/Bakteri/Staphylococcus_epidermidis/Staphylococcus.epidermidis_0016.jpg\n",
            "73\n",
            "/content/drive/MyDrive/Colab Notebooks/Bakteri/Bakteri/Staphylococcus_epidermidis/Staphylococcus.epidermidis_0009.jpg\n",
            "74\n",
            "/content/drive/MyDrive/Colab Notebooks/Bakteri/Bakteri/Staphylococcus_epidermidis/Staphylococcus.epidermidis_0004.jpg\n",
            "75\n",
            "/content/drive/MyDrive/Colab Notebooks/Bakteri/Bakteri/Staphylococcus_epidermidis/Staphylococcus.epidermidis_0003.jpg\n",
            "76\n",
            "/content/drive/MyDrive/Colab Notebooks/Bakteri/Bakteri/Staphylococcus_epidermidis/Staphylococcus.epidermidis_0020.jpg\n",
            "77\n",
            "/content/drive/MyDrive/Colab Notebooks/Bakteri/Bakteri/Staphylococcus_epidermidis/Staphylococcus.epidermidis_0013.jpg\n",
            "78\n",
            "/content/drive/MyDrive/Colab Notebooks/Bakteri/Bakteri/Staphylococcus_epidermidis/Staphylococcus.epidermidis_0012.jpg\n",
            "79\n",
            "/content/drive/MyDrive/Colab Notebooks/Bakteri/Bakteri/Staphylococcus_epidermidis/Staphylococcus.epidermidis_0015.jpg\n",
            "80\n",
            "/content/drive/MyDrive/Colab Notebooks/Bakteri/Bakteri/Staphylococcus_epidermidis/Staphylococcus.epidermidis_0008.jpg\n",
            "81\n",
            "/content/drive/MyDrive/Colab Notebooks/Bakteri/Bakteri/Staphylococcus_epidermidis/Staphylococcus.epidermidis_0007.jpg\n",
            "82\n",
            "/content/drive/MyDrive/Colab Notebooks/Bakteri/Bakteri/Staphylococcus_epidermidis/Staphylococcus.epidermidis_0010.jpg\n",
            "83\n",
            "/content/drive/MyDrive/Colab Notebooks/Bakteri/Bakteri/Escherichia_coli/Escherichia.coli_0019.jpg\n",
            "84\n",
            "/content/drive/MyDrive/Colab Notebooks/Bakteri/Bakteri/Escherichia_coli/Escherichia.coli_0007.jpg\n",
            "85\n",
            "/content/drive/MyDrive/Colab Notebooks/Bakteri/Bakteri/Escherichia_coli/Escherichia.coli_0017.jpg\n",
            "86\n",
            "/content/drive/MyDrive/Colab Notebooks/Bakteri/Bakteri/Escherichia_coli/Escherichia.coli_0006.jpg\n",
            "87\n",
            "/content/drive/MyDrive/Colab Notebooks/Bakteri/Bakteri/Escherichia_coli/Escherichia.coli_0013.jpg\n",
            "88\n",
            "/content/drive/MyDrive/Colab Notebooks/Bakteri/Bakteri/Escherichia_coli/Escherichia.coli_0014.jpg\n",
            "89\n",
            "/content/drive/MyDrive/Colab Notebooks/Bakteri/Bakteri/Escherichia_coli/Escherichia.coli_0016.jpg\n",
            "90\n",
            "/content/drive/MyDrive/Colab Notebooks/Bakteri/Bakteri/Escherichia_coli/Escherichia.coli_0018.jpg\n",
            "91\n",
            "/content/drive/MyDrive/Colab Notebooks/Bakteri/Bakteri/Escherichia_coli/Escherichia.coli_0002.jpg\n",
            "92\n",
            "/content/drive/MyDrive/Colab Notebooks/Bakteri/Bakteri/Escherichia_coli/Escherichia.coli_0005.jpg\n",
            "93\n",
            "/content/drive/MyDrive/Colab Notebooks/Bakteri/Bakteri/Escherichia_coli/Escherichia.coli_0015.jpg\n",
            "94\n",
            "/content/drive/MyDrive/Colab Notebooks/Bakteri/Bakteri/Escherichia_coli/Escherichia.coli_0003.jpg\n",
            "95\n",
            "/content/drive/MyDrive/Colab Notebooks/Bakteri/Bakteri/Escherichia_coli/Escherichia.coli_0001.jpg\n",
            "96\n",
            "/content/drive/MyDrive/Colab Notebooks/Bakteri/Bakteri/Escherichia_coli/Escherichia.coli_0008.jpg\n",
            "97\n",
            "/content/drive/MyDrive/Colab Notebooks/Bakteri/Bakteri/Escherichia_coli/Escherichia.coli_0010.jpg\n",
            "98\n",
            "/content/drive/MyDrive/Colab Notebooks/Bakteri/Bakteri/Escherichia_coli/Escherichia.coli_0012.jpg\n",
            "99\n",
            "/content/drive/MyDrive/Colab Notebooks/Bakteri/Bakteri/Escherichia_coli/Escherichia.coli_0004.jpg\n",
            "100\n",
            "/content/drive/MyDrive/Colab Notebooks/Bakteri/Bakteri/Escherichia_coli/Escherichia.coli_0020.jpg\n",
            "101\n",
            "/content/drive/MyDrive/Colab Notebooks/Bakteri/Bakteri/Escherichia_coli/Escherichia.coli_0009.jpg\n",
            "102\n",
            "/content/drive/MyDrive/Colab Notebooks/Bakteri/Bakteri/Escherichia_coli/Escherichia.coli_0011.jpg\n",
            "103\n",
            "/content/drive/MyDrive/Colab Notebooks/Bakteri/Bakteri/Proteus/Proteus_0004.jpg\n",
            "104\n",
            "/content/drive/MyDrive/Colab Notebooks/Bakteri/Bakteri/Proteus/Proteus_0006.jpg\n",
            "105\n",
            "/content/drive/MyDrive/Colab Notebooks/Bakteri/Bakteri/Proteus/Proteus_0002.jpg\n",
            "106\n",
            "/content/drive/MyDrive/Colab Notebooks/Bakteri/Bakteri/Proteus/Proteus_0001.jpg\n",
            "107\n",
            "/content/drive/MyDrive/Colab Notebooks/Bakteri/Bakteri/Proteus/Proteus_0003.jpg\n",
            "108\n",
            "/content/drive/MyDrive/Colab Notebooks/Bakteri/Bakteri/Proteus/Proteus_0005.jpg\n",
            "109\n",
            "/content/drive/MyDrive/Colab Notebooks/Bakteri/Bakteri/Proteus/Proteus_0017.jpg\n",
            "110\n",
            "/content/drive/MyDrive/Colab Notebooks/Bakteri/Bakteri/Proteus/Proteus_0013.jpg\n",
            "111\n",
            "/content/drive/MyDrive/Colab Notebooks/Bakteri/Bakteri/Proteus/Proteus_0012.jpg\n",
            "112\n",
            "/content/drive/MyDrive/Colab Notebooks/Bakteri/Bakteri/Proteus/Proteus_0011.jpg\n",
            "113\n",
            "/content/drive/MyDrive/Colab Notebooks/Bakteri/Bakteri/Proteus/Proteus_0014.jpg\n",
            "114\n",
            "/content/drive/MyDrive/Colab Notebooks/Bakteri/Bakteri/Proteus/Proteus_0020.jpg\n",
            "115\n",
            "/content/drive/MyDrive/Colab Notebooks/Bakteri/Bakteri/Proteus/Proteus_0009.jpg\n",
            "116\n",
            "/content/drive/MyDrive/Colab Notebooks/Bakteri/Bakteri/Proteus/Proteus_0010.jpg\n",
            "117\n",
            "/content/drive/MyDrive/Colab Notebooks/Bakteri/Bakteri/Proteus/Proteus_0016.jpg\n",
            "118\n",
            "/content/drive/MyDrive/Colab Notebooks/Bakteri/Bakteri/Proteus/Proteus_0019.jpg\n",
            "119\n",
            "/content/drive/MyDrive/Colab Notebooks/Bakteri/Bakteri/Proteus/Proteus_0018.jpg\n",
            "120\n",
            "/content/drive/MyDrive/Colab Notebooks/Bakteri/Bakteri/Proteus/Proteus_0008.jpg\n",
            "121\n",
            "/content/drive/MyDrive/Colab Notebooks/Bakteri/Bakteri/Proteus/Proteus_0015.jpg\n",
            "122\n",
            "/content/drive/MyDrive/Colab Notebooks/Bakteri/Bakteri/Proteus/Proteus_0007.jpg\n",
            "123\n"
          ]
        }
      ]
    },
    {
      "cell_type": "code",
      "metadata": {
        "id": "zXS5zcAlyHBl"
      },
      "source": [
        "data = np.array(data)\n",
        "lables = np.array(lables)"
      ],
      "execution_count": null,
      "outputs": []
    },
    {
      "cell_type": "code",
      "metadata": {
        "id": "F4QEqKIiyG-_"
      },
      "source": [
        "le = LabelEncoder()\n",
        "lables = le.fit_transform(lables)"
      ],
      "execution_count": null,
      "outputs": []
    },
    {
      "cell_type": "code",
      "metadata": {
        "colab": {
          "base_uri": "https://localhost:8080/"
        },
        "id": "vzgQRjFeyG81",
        "outputId": "89910474-cc47-46db-b72e-631de1e1248e"
      },
      "source": [
        "myset = set(lables)\n",
        "print(myset)"
      ],
      "execution_count": null,
      "outputs": [
        {
          "output_type": "stream",
          "name": "stdout",
          "text": [
            "{0, 1, 2, 3, 4, 5}\n"
          ]
        }
      ]
    },
    {
      "cell_type": "code",
      "metadata": {
        "colab": {
          "base_uri": "https://localhost:8080/"
        },
        "id": "YzFyUCtTyG06",
        "outputId": "e696cf4e-898f-4d30-f1b4-ab91f30f6ba1"
      },
      "source": [
        "dataset_size = data.shape[0]\n",
        "data = data.reshape(dataset_size,-1)\n",
        "\n",
        "print(data.shape)\n",
        "print(lables.shape)\n",
        "print(dataset_size)"
      ],
      "execution_count": null,
      "outputs": [
        {
          "output_type": "stream",
          "name": "stdout",
          "text": [
            "(123, 3072)\n",
            "(123,)\n",
            "123\n"
          ]
        }
      ]
    },
    {
      "cell_type": "code",
      "metadata": {
        "id": "MVn5obqGyGxv"
      },
      "source": [
        "(trainX, testX, trainY, testY ) = train_test_split(data, lables, test_size= 0.20, random_state=42)"
      ],
      "execution_count": null,
      "outputs": []
    },
    {
      "cell_type": "code",
      "metadata": {
        "colab": {
          "base_uri": "https://localhost:8080/"
        },
        "id": "gW48zEoFz1p6",
        "outputId": "bee61fa5-2262-4cae-9d4a-08ad3d306d74"
      },
      "source": [
        "# model = KNeighborsClassifier(n_neighbors=5)\n",
        "model = KNeighborsClassifier(n_neighbors=3, n_jobs=-1)\n",
        "model.fit(trainX, trainY)"
      ],
      "execution_count": null,
      "outputs": [
        {
          "output_type": "execute_result",
          "data": {
            "text/plain": [
              "KNeighborsClassifier(algorithm='auto', leaf_size=30, metric='minkowski',\n",
              "                     metric_params=None, n_jobs=-1, n_neighbors=3, p=2,\n",
              "                     weights='uniform')"
            ]
          },
          "metadata": {},
          "execution_count": 214
        }
      ]
    },
    {
      "cell_type": "code",
      "metadata": {
        "colab": {
          "base_uri": "https://localhost:8080/"
        },
        "id": "NgIUJq0qF0if",
        "outputId": "6469f31f-f1a5-4dca-c669-e93ef4e5f22b"
      },
      "source": [
        "y_pred = model.predict(testX)\n",
        "print(testY)\n",
        "print(y_pred)"
      ],
      "execution_count": null,
      "outputs": [
        {
          "output_type": "stream",
          "name": "stdout",
          "text": [
            "[5 0 0 1 5 2 0 1 2 0 0 4 5 1 1 5 4 0 3 5 2 0 4 3 2]\n",
            "[3 3 4 1 3 2 0 1 0 0 3 1 3 1 1 3 1 0 3 4 1 4 3 1 2]\n"
          ]
        }
      ]
    },
    {
      "cell_type": "code",
      "metadata": {
        "colab": {
          "base_uri": "https://localhost:8080/"
        },
        "id": "r0OUZZqGz1cl",
        "outputId": "4ab0e472-97c5-4be3-80d9-b4c4daf0f508"
      },
      "source": [
        "print(classification_report(testY, y_pred, target_names=le.classes_))"
      ],
      "execution_count": null,
      "outputs": [
        {
          "output_type": "stream",
          "name": "stdout",
          "text": [
            "                            precision    recall  f1-score   support\n",
            "\n",
            "   Clostridium_perfringens       0.75      0.43      0.55         7\n",
            "          Escherichia_coli       0.50      1.00      0.67         4\n",
            "     Lactobacillus_reuteri       1.00      0.50      0.67         4\n",
            "                   Proteus       0.12      0.50      0.20         2\n",
            "Staphylococcus_epidermidis       0.00      0.00      0.00         3\n",
            "  Streptococcus_agalactiae       0.00      0.00      0.00         5\n",
            "\n",
            "                  accuracy                           0.40        25\n",
            "                 macro avg       0.40      0.40      0.35        25\n",
            "              weighted avg       0.46      0.40      0.38        25\n",
            "\n"
          ]
        },
        {
          "output_type": "stream",
          "name": "stderr",
          "text": [
            "/usr/local/lib/python3.7/dist-packages/sklearn/metrics/_classification.py:1272: UndefinedMetricWarning: Precision and F-score are ill-defined and being set to 0.0 in labels with no predicted samples. Use `zero_division` parameter to control this behavior.\n",
            "  _warn_prf(average, modifier, msg_start, len(result))\n"
          ]
        }
      ]
    }
  ]
}