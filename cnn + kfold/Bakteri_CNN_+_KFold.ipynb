{
  "nbformat": 4,
  "nbformat_minor": 0,
  "metadata": {
    "accelerator": "TPU",
    "colab": {
      "name": "Bakteri CNN + KFold.ipynb",
      "provenance": [],
      "collapsed_sections": []
    },
    "kernelspec": {
      "display_name": "Python 3",
      "name": "python3"
    },
    "language_info": {
      "name": "python"
    }
  },
  "cells": [
    {
      "cell_type": "code",
      "metadata": {
        "id": "jmIdn0UYRqHb"
      },
      "source": [
        "import tensorflow as tf\n",
        "from keras.preprocessing.image import ImageDataGenerator\n",
        "from keras.preprocessing import image\n",
        "from tensorflow.keras.models import Sequential\n",
        "from tensorflow.keras import layers\n",
        "from tensorflow.keras.layers import Dense\n",
        "from tensorflow.keras.layers import Dropout\n",
        "from tensorflow.keras.layers import Flatten\n",
        "from tensorflow.keras.layers import Conv2D\n",
        "from tensorflow.keras.layers import MaxPooling2D\n",
        "from tensorflow.keras.callbacks import EarlyStopping, ReduceLROnPlateau\n",
        "from sklearn.utils.class_weight import compute_class_weight\n",
        "from sklearn.metrics import accuracy_score, f1_score, precision_score\n",
        "from sklearn.model_selection import StratifiedKFold\n",
        "from PIL import Image\n",
        "import matplotlib.pyplot as plt\n",
        "import numpy as np\n",
        "import random\n",
        "import os\n",
        "import shutil\n",
        "import datetime"
      ],
      "execution_count": null,
      "outputs": []
    },
    {
      "cell_type": "code",
      "metadata": {
        "id": "qPM8NZw1JIhU"
      },
      "source": [
        "datasetFolderName='/content/drive/MyDrive/Colab Notebooks/Bakteri/Dataset'\n",
        "sourceFiles=[]\n",
        "classLabels=['Clostridium_perfringens', 'Escherichia_coli', 'Lactobacillus_reuteri', 'Proteus', 'Staphylococcus_epidermidis', 'Streptococcus_agalactiae']"
      ],
      "execution_count": null,
      "outputs": []
    },
    {
      "cell_type": "code",
      "metadata": {
        "id": "iEJRiubqVIYh"
      },
      "source": [
        "def transferBetweenFolders(source, dest, splitRate):   \n",
        "    global sourceFiles\n",
        "    sourceFiles=os.listdir(source)\n",
        "\n",
        "    if(len(sourceFiles)!=0):\n",
        "        transferFileNumbers=int(len(sourceFiles)*splitRate)\n",
        "        transferIndex=random.sample(range(0, len(sourceFiles)), transferFileNumbers)\n",
        "\n",
        "        for eachIndex in transferIndex:\n",
        "            shutil.move(source+str(sourceFiles[eachIndex]), dest+str(sourceFiles[eachIndex]))\n",
        "    else:\n",
        "        print(\"No file moved. Source empty!\")\n",
        "        \n",
        "def transferAllClassBetweenFolders(source, dest, splitRate):\n",
        "    for label in classLabels:\n",
        "        transferBetweenFolders(datasetFolderName+'/'+source+'/'+label+'/', \n",
        "                               datasetFolderName+'/'+dest+'/'+label+'/', \n",
        "                               splitRate)"
      ],
      "execution_count": null,
      "outputs": []
    },
    {
      "cell_type": "code",
      "metadata": {
        "id": "wFe4YLiTLS4Q"
      },
      "source": [
        "transferAllClassBetweenFolders('test', 'train', 1.0)\n",
        "transferAllClassBetweenFolders('train', 'test', 0.20)"
      ],
      "execution_count": null,
      "outputs": []
    },
    {
      "cell_type": "code",
      "metadata": {
        "id": "XOpRTo_RcFgC"
      },
      "source": [
        "X=[]\n",
        "Y=[]\n",
        " \n",
        "def prepareNameWithLabels(folderName):\n",
        "    sourceFiles=os.listdir(datasetFolderName+'/train/'+folderName)\n",
        "    for val in sourceFiles:\n",
        "        X.append(val)\n",
        "        if(folderName==classLabels[0]):\n",
        "            Y.append(0)\n",
        "        elif(folderName==classLabels[1]):\n",
        "            Y.append(1)\n",
        "        elif(folderName==classLabels[2]):\n",
        "            Y.append(2)\n",
        "        elif(folderName==classLabels[3]):\n",
        "            Y.append(3)\n",
        "        elif(folderName==classLabels[4]):\n",
        "            Y.append(4)\n",
        "        else:\n",
        "            Y.append(5)\n",
        " \n",
        "# Atur nama file dan label kelas dalam variabel X dan Y.\n",
        "prepareNameWithLabels(classLabels[0])\n",
        "prepareNameWithLabels(classLabels[1])\n",
        "prepareNameWithLabels(classLabels[2])\n",
        "prepareNameWithLabels(classLabels[3])       \n",
        "prepareNameWithLabels(classLabels[4])       \n",
        "prepareNameWithLabels(classLabels[5])       \n",
        " \n",
        "X=np.asarray(X)\n",
        "Y=np.asarray(Y)\n",
        " \n",
        "print(X)\n",
        "print(Y)"
      ],
      "execution_count": null,
      "outputs": []
    },
    {
      "cell_type": "code",
      "metadata": {
        "id": "aZF8aNTPq3vb"
      },
      "source": [
        "print(len(X))"
      ],
      "execution_count": null,
      "outputs": []
    },
    {
      "cell_type": "code",
      "metadata": {
        "colab": {
          "base_uri": "https://localhost:8080/"
        },
        "id": "fz1rk821dWjW",
        "outputId": "be0abc87-b67b-4e0d-81f9-1f3427540435"
      },
      "source": [
        "train_path = datasetFolderName+'/train/'\n",
        "validation_path = datasetFolderName+'/validation/'\n",
        "test_path = datasetFolderName+'/test/'\n",
        " \n",
        "num_class = len(classLabels)\n",
        "print(num_class)"
      ],
      "execution_count": null,
      "outputs": [
        {
          "output_type": "stream",
          "name": "stdout",
          "text": [
            "6\n"
          ]
        }
      ]
    },
    {
      "cell_type": "code",
      "metadata": {
        "id": "rxOxT73td7SA"
      },
      "source": [
        "model = Sequential()\n",
        " \n",
        "model.add(Conv2D(16, (3, 3), activation='relu', input_shape=(224, 224, 3)))\n",
        "model.add(MaxPooling2D(pool_size=(2, 2)))\n",
        "model.add(Conv2D(32, (3, 3), activation='relu'))\n",
        "model.add(MaxPooling2D(pool_size=(2, 2)))\n",
        "model.add(Conv2D(64, (3, 3), activation='relu'))\n",
        "model.add(MaxPooling2D(pool_size=(2, 2)))\n",
        "model.add(Conv2D(64, (3, 3), activation='relu'))\n",
        "model.add(MaxPooling2D(pool_size=(2, 2)))\n",
        " \n",
        "model.add(Flatten())\n",
        "model.add(Dense(128, activation='relu'))\n",
        "model.add(Dropout(0.5))\n",
        "model.add(Dense(num_class, activation='softmax'))"
      ],
      "execution_count": null,
      "outputs": []
    },
    {
      "cell_type": "code",
      "metadata": {
        "id": "MPl5fKnp6nzw"
      },
      "source": [
        "tf.keras.utils.plot_model(\n",
        "    model,\n",
        "    to_file=\"model.png\",\n",
        "    show_shapes=True,\n",
        "    show_dtype=True,\n",
        "    show_layer_names=True,\n",
        "    rankdir=\"TB\",\n",
        "    expand_nested=True,\n",
        "    dpi=96,\n",
        ")\n"
      ],
      "execution_count": null,
      "outputs": []
    },
    {
      "cell_type": "code",
      "metadata": {
        "id": "y_RqGLiP6-8c"
      },
      "source": [
        "model.compile(\n",
        "    loss=\"categorical_crossentropy\",\n",
        "    optimizer=\"adam\",\n",
        "    metrics=['accuracy']\n",
        ")"
      ],
      "execution_count": null,
      "outputs": []
    },
    {
      "cell_type": "code",
      "metadata": {
        "id": "gib_YTsbTzcN"
      },
      "source": [
        "datagen = ImageDataGenerator(\n",
        "        rescale = 1./255,\n",
        "        shear_range = 0.2\n",
        ")"
      ],
      "execution_count": null,
      "outputs": []
    },
    {
      "cell_type": "code",
      "metadata": {
        "id": "hucK1W92efcn",
        "colab": {
          "base_uri": "https://localhost:8080/"
        },
        "outputId": "8cc5cb5e-cb46-44a4-8303-9fe59717ac39"
      },
      "source": [
        "skf = StratifiedKFold(n_splits = 3, shuffle = True)\n",
        "skf.get_n_splits(X, Y)\n",
        "foldNum = 0\n",
        "epoch = 50\n",
        " \n",
        "for train_index, val_index in skf.split(X, Y):\n",
        "    transferAllClassBetweenFolders('validation', 'train', 1.0)\n",
        "    foldNum+=1\n",
        "    print(\"Hasil untuk Fold ke \",foldNum)\n",
        "    X_train, X_val = X[train_index], X[val_index]\n",
        "    Y_train, Y_val = Y[train_index], Y[val_index]\n",
        "\n",
        "    for eachIndex in range(len(X_val)):\n",
        "        classLabel=''\n",
        "        if(Y_val[eachIndex]==0):\n",
        "            classLabel=classLabels[0]\n",
        "        elif(Y_val[eachIndex]==1):\n",
        "            classLabel=classLabels[1]\n",
        "        elif(Y_val[eachIndex]==2):\n",
        "            classLabel=classLabels[2]\n",
        "        elif(Y_val[eachIndex]==3):\n",
        "            classLabel=classLabels[3]\n",
        "        elif(Y_val[eachIndex]==4):\n",
        "            classLabel=classLabels[4]\n",
        "        else:\n",
        "            classLabel=classLabels[5]   \n",
        "\n",
        "        shutil.move(datasetFolderName+'/train/'+classLabel+'/'+X_val[eachIndex], \n",
        "                    datasetFolderName+'/validation/'+classLabel+'/'+X_val[eachIndex])\n",
        "        \n",
        "    train_generator = datagen.flow_from_directory(\n",
        "        directory = train_path,\n",
        "        target_size = (224, 224),\n",
        "        batch_size = 3,\n",
        "        class_mode = 'categorical',\n",
        "    )\n",
        " \n",
        "    val_generator = datagen.flow_from_directory(\n",
        "            directory = validation_path,\n",
        "            target_size = (224, 224),\n",
        "            batch_size = 3,\n",
        "            class_mode = 'categorical',\n",
        "    )   \n",
        "\n",
        "    weights = compute_class_weight('balanced', np.unique(train_generator.classes), train_generator.classes)\n",
        "    cw = dict(zip(np.unique(train_generator.classes), weights))\n",
        "\n",
        "    early = EarlyStopping(monitor=\"val_loss\", mode=\"min\", patience=3)\n",
        "    learning_rate_reduction = ReduceLROnPlateau(monitor='val_loss', patience = 3, verbose=1, factor=0.3, min_lr=0.000001)\n",
        "    callbacks_list = [early, learning_rate_reduction]\n",
        "   \n",
        "    # fit model\n",
        "    history = model.fit(\n",
        "        train_generator,\n",
        "        steps_per_epoch = len(train_generator),\n",
        "        validation_data = val_generator,\n",
        "        validation_steps = len(val_generator),\n",
        "        epochs = epoch,\n",
        "        class_weight = cw,\n",
        "        callbacks = callbacks_list,\n",
        "        # verbose = 1\n",
        "    )"
      ],
      "execution_count": null,
      "outputs": [
        {
          "output_type": "stream",
          "name": "stdout",
          "text": [
            "Hasil untuk Fold ke  1\n",
            "Found 78 images belonging to 6 classes.\n",
            "Found 27 images belonging to 6 classes.\n",
            "Epoch 1/50\n",
            "26/26 [==============================] - 42s 2s/step - loss: 1.8654 - accuracy: 0.1538 - val_loss: 1.7703 - val_accuracy: 0.1852\n",
            "Epoch 2/50\n",
            "26/26 [==============================] - 11s 426ms/step - loss: 1.7163 - accuracy: 0.2051 - val_loss: 1.5574 - val_accuracy: 0.2963\n",
            "Epoch 3/50\n",
            "26/26 [==============================] - 11s 425ms/step - loss: 1.4917 - accuracy: 0.2692 - val_loss: 1.2713 - val_accuracy: 0.3704\n",
            "Epoch 4/50\n",
            "26/26 [==============================] - 11s 427ms/step - loss: 1.6362 - accuracy: 0.3333 - val_loss: 1.4595 - val_accuracy: 0.4074\n",
            "Epoch 5/50\n",
            "26/26 [==============================] - 11s 433ms/step - loss: 1.5730 - accuracy: 0.3077 - val_loss: 1.2770 - val_accuracy: 0.4444\n",
            "Epoch 6/50\n",
            "26/26 [==============================] - 11s 434ms/step - loss: 1.3535 - accuracy: 0.3974 - val_loss: 1.1902 - val_accuracy: 0.4815\n",
            "Epoch 7/50\n",
            "26/26 [==============================] - 11s 431ms/step - loss: 1.3015 - accuracy: 0.3205 - val_loss: 1.0723 - val_accuracy: 0.5926\n",
            "Epoch 8/50\n",
            "26/26 [==============================] - 11s 438ms/step - loss: 1.1278 - accuracy: 0.4231 - val_loss: 0.9092 - val_accuracy: 0.7037\n",
            "Epoch 9/50\n",
            "26/26 [==============================] - 11s 429ms/step - loss: 0.9960 - accuracy: 0.5128 - val_loss: 0.7703 - val_accuracy: 0.5556\n",
            "Epoch 10/50\n",
            "26/26 [==============================] - 11s 425ms/step - loss: 1.2548 - accuracy: 0.4231 - val_loss: 1.4420 - val_accuracy: 0.4074\n",
            "Epoch 11/50\n",
            "26/26 [==============================] - 11s 428ms/step - loss: 1.2947 - accuracy: 0.4359 - val_loss: 1.1519 - val_accuracy: 0.4444\n",
            "Epoch 12/50\n",
            "26/26 [==============================] - 11s 423ms/step - loss: 1.1973 - accuracy: 0.4359 - val_loss: 1.0505 - val_accuracy: 0.4444\n",
            "\n",
            "Epoch 00012: ReduceLROnPlateau reducing learning rate to 0.0003000000142492354.\n",
            "Hasil untuk Fold ke  2\n",
            "Found 79 images belonging to 6 classes.\n",
            "Found 26 images belonging to 6 classes.\n",
            "Epoch 1/50\n",
            "27/27 [==============================] - 11s 423ms/step - loss: 1.0251 - accuracy: 0.5190 - val_loss: 0.7635 - val_accuracy: 0.7692\n",
            "Epoch 2/50\n",
            "27/27 [==============================] - 11s 411ms/step - loss: 0.8507 - accuracy: 0.6203 - val_loss: 0.6325 - val_accuracy: 0.8077\n",
            "Epoch 3/50\n",
            "27/27 [==============================] - 11s 410ms/step - loss: 0.7054 - accuracy: 0.7342 - val_loss: 0.5965 - val_accuracy: 0.7692\n",
            "Epoch 4/50\n",
            "27/27 [==============================] - 11s 410ms/step - loss: 0.6495 - accuracy: 0.6962 - val_loss: 0.5383 - val_accuracy: 0.8077\n",
            "Epoch 5/50\n",
            "27/27 [==============================] - 11s 415ms/step - loss: 0.6997 - accuracy: 0.6456 - val_loss: 0.6475 - val_accuracy: 0.6538\n",
            "Epoch 6/50\n",
            "27/27 [==============================] - 11s 415ms/step - loss: 0.8268 - accuracy: 0.5443 - val_loss: 0.5665 - val_accuracy: 0.6923\n",
            "Epoch 7/50\n",
            "27/27 [==============================] - 11s 415ms/step - loss: 0.7950 - accuracy: 0.5823 - val_loss: 0.7853 - val_accuracy: 0.5000\n",
            "\n",
            "Epoch 00007: ReduceLROnPlateau reducing learning rate to 9.000000427477062e-05.\n",
            "Hasil untuk Fold ke  3\n",
            "Found 79 images belonging to 6 classes.\n",
            "Found 26 images belonging to 6 classes.\n",
            "Epoch 1/50\n",
            "27/27 [==============================] - 12s 426ms/step - loss: 0.7038 - accuracy: 0.6582 - val_loss: 0.4459 - val_accuracy: 0.7692\n",
            "Epoch 2/50\n",
            "27/27 [==============================] - 11s 414ms/step - loss: 0.6247 - accuracy: 0.6709 - val_loss: 0.4137 - val_accuracy: 0.8077\n",
            "Epoch 3/50\n",
            "27/27 [==============================] - 11s 412ms/step - loss: 0.5893 - accuracy: 0.7595 - val_loss: 0.4169 - val_accuracy: 1.0000\n",
            "Epoch 4/50\n",
            "27/27 [==============================] - 11s 409ms/step - loss: 0.6364 - accuracy: 0.7342 - val_loss: 0.4165 - val_accuracy: 0.8846\n",
            "Epoch 5/50\n",
            "27/27 [==============================] - 11s 415ms/step - loss: 0.6451 - accuracy: 0.6709 - val_loss: 0.3925 - val_accuracy: 0.8846\n",
            "Epoch 6/50\n",
            "27/27 [==============================] - 11s 413ms/step - loss: 0.5761 - accuracy: 0.7215 - val_loss: 0.4131 - val_accuracy: 0.8846\n",
            "Epoch 7/50\n",
            "27/27 [==============================] - 11s 408ms/step - loss: 0.5915 - accuracy: 0.7722 - val_loss: 0.3699 - val_accuracy: 0.9615\n",
            "Epoch 8/50\n",
            "27/27 [==============================] - 11s 411ms/step - loss: 0.5877 - accuracy: 0.7089 - val_loss: 0.3864 - val_accuracy: 0.7692\n",
            "Epoch 9/50\n",
            "27/27 [==============================] - 11s 413ms/step - loss: 0.5543 - accuracy: 0.7468 - val_loss: 0.3648 - val_accuracy: 0.8077\n",
            "Epoch 10/50\n",
            "27/27 [==============================] - 11s 410ms/step - loss: 0.5737 - accuracy: 0.7342 - val_loss: 0.3798 - val_accuracy: 0.8077\n",
            "Epoch 11/50\n",
            "27/27 [==============================] - 11s 411ms/step - loss: 0.5467 - accuracy: 0.7342 - val_loss: 0.3634 - val_accuracy: 0.8077\n",
            "Epoch 12/50\n",
            "27/27 [==============================] - 11s 410ms/step - loss: 0.4796 - accuracy: 0.7722 - val_loss: 0.3579 - val_accuracy: 0.8077\n",
            "Epoch 13/50\n",
            "27/27 [==============================] - 11s 412ms/step - loss: 0.5166 - accuracy: 0.7722 - val_loss: 0.3714 - val_accuracy: 0.8077\n",
            "Epoch 14/50\n",
            "27/27 [==============================] - 11s 409ms/step - loss: 0.5160 - accuracy: 0.7595 - val_loss: 0.3504 - val_accuracy: 0.8077\n",
            "Epoch 15/50\n",
            "27/27 [==============================] - 11s 411ms/step - loss: 0.4459 - accuracy: 0.7975 - val_loss: 0.3449 - val_accuracy: 0.8077\n",
            "Epoch 16/50\n",
            "27/27 [==============================] - 11s 411ms/step - loss: 0.4697 - accuracy: 0.7342 - val_loss: 0.3450 - val_accuracy: 0.9615\n",
            "Epoch 17/50\n",
            "27/27 [==============================] - 11s 408ms/step - loss: 0.5420 - accuracy: 0.7975 - val_loss: 0.3518 - val_accuracy: 0.8846\n",
            "Epoch 18/50\n",
            "27/27 [==============================] - 11s 407ms/step - loss: 0.4918 - accuracy: 0.7722 - val_loss: 0.3501 - val_accuracy: 0.8846\n",
            "\n",
            "Epoch 00018: ReduceLROnPlateau reducing learning rate to 2.700000040931627e-05.\n"
          ]
        }
      ]
    },
    {
      "cell_type": "code",
      "metadata": {
        "id": "j-JM-FuHjA9o"
      },
      "source": [
        "# Save Model\n",
        "base_path = \"/content/drive/My Drive/Colab Notebooks/model\"\n",
        "project_name = \"bakteri\"\n",
        "model_name = \"bakteri_modelKFold3_224px.h5\"\n",
        "model_path = os.path.join(base_path, project_name, model_name)\n",
        "model.save(model_path, include_optimizer = False)"
      ],
      "execution_count": null,
      "outputs": []
    },
    {
      "cell_type": "code",
      "metadata": {
        "id": "BdOHU63vhuZa",
        "colab": {
          "base_uri": "https://localhost:8080/"
        },
        "outputId": "3d1cf9be-bbd5-4d88-db36-3b52398cd9c9"
      },
      "source": [
        "# =============TESTING============\n",
        "from sklearn.metrics import classification_report\n",
        "# from tensorflow.keras.models import load_model\n",
        "\n",
        "# MODEL_PATH = '/content/drive/MyDrive/Colab Notebooks/model/bakteri/bakteri_modelKFold3_224px.h5'\n",
        "# model = load_model(MODEL_PATH, compile = True)\n",
        "\n",
        "test = '/content/drive/MyDrive/Colab Notebooks/Bakteri/Dataset/test'\n",
        "\n",
        "test_generator = datagen.flow_from_directory(\n",
        "        directory = test,\n",
        "        target_size=(224, 224),\n",
        "        batch_size = 1,\n",
        "        class_mode = 'categorical',\n",
        "        shuffle = False\n",
        ") \n",
        "\n",
        "predictions = model.predict(test_generator, verbose=1)\n",
        "yPredictions = np.argmax(predictions, axis=1)\n",
        "true_classes = test_generator.classes\n",
        "\n",
        "print(\"\\nHasil Sebenarnya Data Test\\n{}\".format(true_classes))\n",
        "print(\"\\nHasil Prediksi Data Test\\n{}\\n\".format(yPredictions))\n",
        "print(classification_report(true_classes, yPredictions, target_names=classLabels))"
      ],
      "execution_count": null,
      "outputs": [
        {
          "output_type": "stream",
          "name": "stdout",
          "text": [
            "Found 18 images belonging to 6 classes.\n",
            "18/18 [==============================] - 2s 85ms/step\n",
            "\n",
            "Hasil Sebenarnya Data Test\n",
            "[0 0 0 1 1 1 2 2 2 3 3 3 4 4 4 5 5 5]\n",
            "\n",
            "Hasil Prediksi Data Test\n",
            "[5 0 0 1 1 1 2 2 2 1 3 1 4 4 4 5 0 5]\n",
            "\n",
            "                            precision    recall  f1-score   support\n",
            "\n",
            "   Clostridium_perfringens       0.67      0.67      0.67         3\n",
            "          Escherichia_coli       0.60      1.00      0.75         3\n",
            "     Lactobacillus_reuteri       1.00      1.00      1.00         3\n",
            "                   Proteus       1.00      0.33      0.50         3\n",
            "Staphylococcus_epidermidis       1.00      1.00      1.00         3\n",
            "  Streptococcus_agalactiae       0.67      0.67      0.67         3\n",
            "\n",
            "                  accuracy                           0.78        18\n",
            "                 macro avg       0.82      0.78      0.76        18\n",
            "              weighted avg       0.82      0.78      0.76        18\n",
            "\n"
          ]
        }
      ]
    },
    {
      "cell_type": "code",
      "metadata": {
        "id": "LIiSxfUeWwRl"
      },
      "source": [
        "# ============================================================================================================"
      ],
      "execution_count": null,
      "outputs": []
    }
  ]
}